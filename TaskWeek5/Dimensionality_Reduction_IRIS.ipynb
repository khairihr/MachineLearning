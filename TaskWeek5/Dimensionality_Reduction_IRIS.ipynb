{
  "nbformat": 4,
  "nbformat_minor": 0,
  "metadata": {
    "colab": {
      "provenance": [],
      "authorship_tag": "ABX9TyPQlsVdpux0YBe7Ztz5sdw7",
      "include_colab_link": true
    },
    "kernelspec": {
      "name": "python3",
      "display_name": "Python 3"
    },
    "language_info": {
      "name": "python"
    }
  },
  "cells": [
    {
      "cell_type": "markdown",
      "metadata": {
        "id": "view-in-github",
        "colab_type": "text"
      },
      "source": [
        "<a href=\"https://colab.research.google.com/github/khairihr/MachineLearning/blob/main/TaskWeek5/Dimensionality_Reduction_IRIS.ipynb\" target=\"_parent\"><img src=\"https://colab.research.google.com/assets/colab-badge.svg\" alt=\"Open In Colab\"/></a>"
      ]
    },
    {
      "cell_type": "markdown",
      "source": [
        "Khairi Hibatullah Ridho\n",
        "\n",
        "1103228240\n"
      ],
      "metadata": {
        "id": "uLecLptwhzbg"
      }
    },
    {
      "cell_type": "code",
      "execution_count": 2,
      "metadata": {
        "id": "9m00akv4M-ur"
      },
      "outputs": [],
      "source": [
        "from sklearn import datasets\n",
        "from sklearn.model_selection import train_test_split\n",
        "\n",
        "# Memuat dataset Iris dari pustaka sklearn\n",
        "iris = datasets.load_iris()"
      ]
    },
    {
      "cell_type": "code",
      "source": [
        "atribut = iris.data\n",
        "label = iris.target"
      ],
      "metadata": {
        "id": "5b-TFDCaNcHO"
      },
      "execution_count": 3,
      "outputs": []
    },
    {
      "cell_type": "code",
      "source": [
        "# Menghitung jumlah baris atau entri dalam dataset iris\n",
        "jumlah_baris = len(atribut)\n",
        "print(\"Jumlah baris dalam dataset iris:\", jumlah_baris)\n"
      ],
      "metadata": {
        "colab": {
          "base_uri": "https://localhost:8080/"
        },
        "id": "7wcT2xOgNLeV",
        "outputId": "cb4accbc-240a-4cd3-f48f-bc94e5f28413"
      },
      "execution_count": 4,
      "outputs": [
        {
          "output_type": "stream",
          "name": "stdout",
          "text": [
            "Jumlah baris dalam dataset iris: 150\n"
          ]
        }
      ]
    },
    {
      "cell_type": "code",
      "source": [
        "X_train, X_test, y_train, y_test = train_test_split(atribut, label, random_state=42, test_size=0.2)"
      ],
      "metadata": {
        "id": "x_ZMzlWbNgk9"
      },
      "execution_count": 5,
      "outputs": []
    },
    {
      "cell_type": "code",
      "source": [
        "# Mengimpor pustaka Decision Tree dari scikit-learn\n",
        "from sklearn import tree\n",
        "\n",
        "# Membuat objek Decision Tree Classifier\n",
        "decision_tree = tree.DecisionTreeClassifier()\n",
        "\n",
        "# Melatih model Decision Tree pada data pelatihan (X_train dan y_train)\n",
        "model_tanpa_dimensionality_reduction = decision_tree.fit(X_train, y_train)\n",
        "\n",
        "# Mengukur akurasi model pada data pengujian (X_test dan y_test)\n",
        "akurasi = model_tanpa_dimensionality_reduction.score(X_test, y_test)"
      ],
      "metadata": {
        "id": "pAGZ-7QuOLp8"
      },
      "execution_count": 6,
      "outputs": []
    },
    {
      "cell_type": "code",
      "source": [
        "# Mengimpor modul PCA (Principal Component Analysis) dari pustaka scikit-learn\n",
        "from sklearn.decomposition import PCA\n",
        "\n",
        "# Membuat objek PCA dengan mengatur jumlah komponen utama yang diinginkan ke 4\n",
        "pca = PCA(n_components=4)\n",
        "\n",
        "# Menggunakan metode fit_transform pada data pelatihan (X_train) untuk melakukan reduksi dimensi\n",
        "# dengan menerapkan analisis komponen utama (PCA) dan menghasilkan dataset baru (pca_attributes)\n",
        "pca_attributes = pca.fit_transform(X_train)\n",
        "\n",
        "# Menampilkan rasio varians yang dijelaskan oleh setiap komponen utama yang dihasilkan\n",
        "pca.explained_variance_ratio_\n"
      ],
      "metadata": {
        "colab": {
          "base_uri": "https://localhost:8080/"
        },
        "id": "Vf1CM1dPQCex",
        "outputId": "8ac957cf-2e4f-484f-9694-1307fbb1c70f"
      },
      "execution_count": 7,
      "outputs": [
        {
          "output_type": "execute_result",
          "data": {
            "text/plain": [
              "array([0.91959926, 0.05714377, 0.01838378, 0.00487319])"
            ]
          },
          "metadata": {},
          "execution_count": 7
        }
      ]
    },
    {
      "cell_type": "code",
      "source": [
        "# PCA (Principal Component Analysis) digunakan untuk mengurangi dimensi data\n",
        "# Tujuan utama dari PCA adalah mengubah data yang memiliki banyak fitur menjadi data dengan jumlah fitur yang lebih sedikit,\n",
        "# sambil mempertahankan sebanyak mungkin informasi yang ada dalam data asli.\n",
        "# Dalam kasus ini, kami ingin mengurangi dimensi data dari X_train dan X_test menjadi 2 komponen utama.\n",
        "# Hasilnya akan disimpan dalam X_train_pca dan X_test_pca untuk penggunaan selanjutnya.\n",
        "pca = PCA(n_components=2)\n",
        "X_train_pca = pca.fit_transform(X_train)\n",
        "X_test_pca = pca.fit_transform(X_test)"
      ],
      "metadata": {
        "id": "8ERB4QjWQY0o"
      },
      "execution_count": 8,
      "outputs": []
    },
    {
      "cell_type": "code",
      "source": [
        "model_dengan_PCA_2_components = decision_tree.fit(X_train_pca, y_train)\n",
        "model_dengan_PCA_2_components.score(X_test_pca, y_test)"
      ],
      "metadata": {
        "colab": {
          "base_uri": "https://localhost:8080/"
        },
        "id": "qk-2PR3JQy8x",
        "outputId": "264ad36e-eeea-4bb7-e717-419b68c497e2"
      },
      "execution_count": 9,
      "outputs": [
        {
          "output_type": "execute_result",
          "data": {
            "text/plain": [
              "0.9333333333333333"
            ]
          },
          "metadata": {},
          "execution_count": 9
        }
      ]
    }
  ]
}
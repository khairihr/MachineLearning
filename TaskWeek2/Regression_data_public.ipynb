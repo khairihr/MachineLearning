{
  "nbformat": 4,
  "nbformat_minor": 0,
  "metadata": {
    "colab": {
      "provenance": [],
      "gpuType": "T4",
      "authorship_tag": "ABX9TyOHgkozcqunK25ktO/YtgLt",
      "include_colab_link": true
    },
    "kernelspec": {
      "name": "python3",
      "display_name": "Python 3"
    },
    "language_info": {
      "name": "python"
    },
    "accelerator": "GPU"
  },
  "cells": [
    {
      "cell_type": "markdown",
      "metadata": {
        "id": "view-in-github",
        "colab_type": "text"
      },
      "source": [
        "<a href=\"https://colab.research.google.com/github/khairihr/MachineLearning/blob/main/TaskWeek2/Regression_data_public.ipynb\" target=\"_parent\"><img src=\"https://colab.research.google.com/assets/colab-badge.svg\" alt=\"Open In Colab\"/></a>"
      ]
    },
    {
      "cell_type": "code",
      "execution_count": 1,
      "metadata": {
        "colab": {
          "base_uri": "https://localhost:8080/"
        },
        "id": "r_j2aCveeuqs",
        "outputId": "a63a81e0-db50-4b58-e620-acd55b97f247"
      },
      "outputs": [
        {
          "output_type": "stream",
          "name": "stdout",
          "text": [
            "Mounted at /content/drive\n"
          ]
        }
      ],
      "source": [
        "#Khairi Hibatullah Ridho_1103228240_Tugas Regression Data Public\n",
        "from google.colab import drive\n",
        "drive.mount('/content/drive')"
      ]
    },
    {
      "cell_type": "markdown",
      "source": [
        "untuk dataset nya dari sini https://www.kaggle.com/datasets/bobnau/daily-website-visitors/data"
      ],
      "metadata": {
        "id": "3yVWrvCwq041"
      }
    },
    {
      "cell_type": "code",
      "source": [
        "#import berbagai library yang dibutuhkan\n",
        "import pandas as pd\n",
        "import numpy as np\n",
        "import matplotlib.pyplot as plt\n",
        "from sklearn.model_selection import train_test_split\n",
        "from sklearn.linear_model import LinearRegression\n",
        "from sklearn.metrics import mean_squared_error, mean_absolute_error\n",
        "df = pd.read_csv('/content/drive/MyDrive/Dataset MachineLearning/daily-website-visitors.csv')"
      ],
      "metadata": {
        "id": "gmoEzDNBf18B"
      },
      "execution_count": 5,
      "outputs": []
    },
    {
      "cell_type": "code",
      "source": [
        "df.head() #melihat 5 data paling atas atau kepalanya"
      ],
      "metadata": {
        "colab": {
          "base_uri": "https://localhost:8080/",
          "height": 206
        },
        "id": "LAB0JpZ0gCIP",
        "outputId": "1dc09f1a-7c5b-41bb-f574-28a6fd823c8f"
      },
      "execution_count": 6,
      "outputs": [
        {
          "output_type": "execute_result",
          "data": {
            "text/plain": [
              "   Row        Day  Day.Of.Week       Date Page.Loads Unique.Visits  \\\n",
              "0    1     Sunday            1  9/14/2014      2,146         1,582   \n",
              "1    2     Monday            2  9/15/2014      3,621         2,528   \n",
              "2    3    Tuesday            3  9/16/2014      3,698         2,630   \n",
              "3    4  Wednesday            4  9/17/2014      3,667         2,614   \n",
              "4    5   Thursday            5  9/18/2014      3,316         2,366   \n",
              "\n",
              "  First.Time.Visits Returning.Visits  \n",
              "0             1,430              152  \n",
              "1             2,297              231  \n",
              "2             2,352              278  \n",
              "3             2,327              287  \n",
              "4             2,130              236  "
            ],
            "text/html": [
              "\n",
              "  <div id=\"df-babf568b-a735-44d4-b16c-ad142a9b53e1\" class=\"colab-df-container\">\n",
              "    <div>\n",
              "<style scoped>\n",
              "    .dataframe tbody tr th:only-of-type {\n",
              "        vertical-align: middle;\n",
              "    }\n",
              "\n",
              "    .dataframe tbody tr th {\n",
              "        vertical-align: top;\n",
              "    }\n",
              "\n",
              "    .dataframe thead th {\n",
              "        text-align: right;\n",
              "    }\n",
              "</style>\n",
              "<table border=\"1\" class=\"dataframe\">\n",
              "  <thead>\n",
              "    <tr style=\"text-align: right;\">\n",
              "      <th></th>\n",
              "      <th>Row</th>\n",
              "      <th>Day</th>\n",
              "      <th>Day.Of.Week</th>\n",
              "      <th>Date</th>\n",
              "      <th>Page.Loads</th>\n",
              "      <th>Unique.Visits</th>\n",
              "      <th>First.Time.Visits</th>\n",
              "      <th>Returning.Visits</th>\n",
              "    </tr>\n",
              "  </thead>\n",
              "  <tbody>\n",
              "    <tr>\n",
              "      <th>0</th>\n",
              "      <td>1</td>\n",
              "      <td>Sunday</td>\n",
              "      <td>1</td>\n",
              "      <td>9/14/2014</td>\n",
              "      <td>2,146</td>\n",
              "      <td>1,582</td>\n",
              "      <td>1,430</td>\n",
              "      <td>152</td>\n",
              "    </tr>\n",
              "    <tr>\n",
              "      <th>1</th>\n",
              "      <td>2</td>\n",
              "      <td>Monday</td>\n",
              "      <td>2</td>\n",
              "      <td>9/15/2014</td>\n",
              "      <td>3,621</td>\n",
              "      <td>2,528</td>\n",
              "      <td>2,297</td>\n",
              "      <td>231</td>\n",
              "    </tr>\n",
              "    <tr>\n",
              "      <th>2</th>\n",
              "      <td>3</td>\n",
              "      <td>Tuesday</td>\n",
              "      <td>3</td>\n",
              "      <td>9/16/2014</td>\n",
              "      <td>3,698</td>\n",
              "      <td>2,630</td>\n",
              "      <td>2,352</td>\n",
              "      <td>278</td>\n",
              "    </tr>\n",
              "    <tr>\n",
              "      <th>3</th>\n",
              "      <td>4</td>\n",
              "      <td>Wednesday</td>\n",
              "      <td>4</td>\n",
              "      <td>9/17/2014</td>\n",
              "      <td>3,667</td>\n",
              "      <td>2,614</td>\n",
              "      <td>2,327</td>\n",
              "      <td>287</td>\n",
              "    </tr>\n",
              "    <tr>\n",
              "      <th>4</th>\n",
              "      <td>5</td>\n",
              "      <td>Thursday</td>\n",
              "      <td>5</td>\n",
              "      <td>9/18/2014</td>\n",
              "      <td>3,316</td>\n",
              "      <td>2,366</td>\n",
              "      <td>2,130</td>\n",
              "      <td>236</td>\n",
              "    </tr>\n",
              "  </tbody>\n",
              "</table>\n",
              "</div>\n",
              "    <div class=\"colab-df-buttons\">\n",
              "\n",
              "  <div class=\"colab-df-container\">\n",
              "    <button class=\"colab-df-convert\" onclick=\"convertToInteractive('df-babf568b-a735-44d4-b16c-ad142a9b53e1')\"\n",
              "            title=\"Convert this dataframe to an interactive table.\"\n",
              "            style=\"display:none;\">\n",
              "\n",
              "  <svg xmlns=\"http://www.w3.org/2000/svg\" height=\"24px\" viewBox=\"0 -960 960 960\">\n",
              "    <path d=\"M120-120v-720h720v720H120Zm60-500h600v-160H180v160Zm220 220h160v-160H400v160Zm0 220h160v-160H400v160ZM180-400h160v-160H180v160Zm440 0h160v-160H620v160ZM180-180h160v-160H180v160Zm440 0h160v-160H620v160Z\"/>\n",
              "  </svg>\n",
              "    </button>\n",
              "\n",
              "  <style>\n",
              "    .colab-df-container {\n",
              "      display:flex;\n",
              "      gap: 12px;\n",
              "    }\n",
              "\n",
              "    .colab-df-convert {\n",
              "      background-color: #E8F0FE;\n",
              "      border: none;\n",
              "      border-radius: 50%;\n",
              "      cursor: pointer;\n",
              "      display: none;\n",
              "      fill: #1967D2;\n",
              "      height: 32px;\n",
              "      padding: 0 0 0 0;\n",
              "      width: 32px;\n",
              "    }\n",
              "\n",
              "    .colab-df-convert:hover {\n",
              "      background-color: #E2EBFA;\n",
              "      box-shadow: 0px 1px 2px rgba(60, 64, 67, 0.3), 0px 1px 3px 1px rgba(60, 64, 67, 0.15);\n",
              "      fill: #174EA6;\n",
              "    }\n",
              "\n",
              "    .colab-df-buttons div {\n",
              "      margin-bottom: 4px;\n",
              "    }\n",
              "\n",
              "    [theme=dark] .colab-df-convert {\n",
              "      background-color: #3B4455;\n",
              "      fill: #D2E3FC;\n",
              "    }\n",
              "\n",
              "    [theme=dark] .colab-df-convert:hover {\n",
              "      background-color: #434B5C;\n",
              "      box-shadow: 0px 1px 3px 1px rgba(0, 0, 0, 0.15);\n",
              "      filter: drop-shadow(0px 1px 2px rgba(0, 0, 0, 0.3));\n",
              "      fill: #FFFFFF;\n",
              "    }\n",
              "  </style>\n",
              "\n",
              "    <script>\n",
              "      const buttonEl =\n",
              "        document.querySelector('#df-babf568b-a735-44d4-b16c-ad142a9b53e1 button.colab-df-convert');\n",
              "      buttonEl.style.display =\n",
              "        google.colab.kernel.accessAllowed ? 'block' : 'none';\n",
              "\n",
              "      async function convertToInteractive(key) {\n",
              "        const element = document.querySelector('#df-babf568b-a735-44d4-b16c-ad142a9b53e1');\n",
              "        const dataTable =\n",
              "          await google.colab.kernel.invokeFunction('convertToInteractive',\n",
              "                                                    [key], {});\n",
              "        if (!dataTable) return;\n",
              "\n",
              "        const docLinkHtml = 'Like what you see? Visit the ' +\n",
              "          '<a target=\"_blank\" href=https://colab.research.google.com/notebooks/data_table.ipynb>data table notebook</a>'\n",
              "          + ' to learn more about interactive tables.';\n",
              "        element.innerHTML = '';\n",
              "        dataTable['output_type'] = 'display_data';\n",
              "        await google.colab.output.renderOutput(dataTable, element);\n",
              "        const docLink = document.createElement('div');\n",
              "        docLink.innerHTML = docLinkHtml;\n",
              "        element.appendChild(docLink);\n",
              "      }\n",
              "    </script>\n",
              "  </div>\n",
              "\n",
              "\n",
              "<div id=\"df-620c6715-0b40-49bf-bba3-1857aa83263f\">\n",
              "  <button class=\"colab-df-quickchart\" onclick=\"quickchart('df-620c6715-0b40-49bf-bba3-1857aa83263f')\"\n",
              "            title=\"Suggest charts.\"\n",
              "            style=\"display:none;\">\n",
              "\n",
              "<svg xmlns=\"http://www.w3.org/2000/svg\" height=\"24px\"viewBox=\"0 0 24 24\"\n",
              "     width=\"24px\">\n",
              "    <g>\n",
              "        <path d=\"M19 3H5c-1.1 0-2 .9-2 2v14c0 1.1.9 2 2 2h14c1.1 0 2-.9 2-2V5c0-1.1-.9-2-2-2zM9 17H7v-7h2v7zm4 0h-2V7h2v10zm4 0h-2v-4h2v4z\"/>\n",
              "    </g>\n",
              "</svg>\n",
              "  </button>\n",
              "\n",
              "<style>\n",
              "  .colab-df-quickchart {\n",
              "      --bg-color: #E8F0FE;\n",
              "      --fill-color: #1967D2;\n",
              "      --hover-bg-color: #E2EBFA;\n",
              "      --hover-fill-color: #174EA6;\n",
              "      --disabled-fill-color: #AAA;\n",
              "      --disabled-bg-color: #DDD;\n",
              "  }\n",
              "\n",
              "  [theme=dark] .colab-df-quickchart {\n",
              "      --bg-color: #3B4455;\n",
              "      --fill-color: #D2E3FC;\n",
              "      --hover-bg-color: #434B5C;\n",
              "      --hover-fill-color: #FFFFFF;\n",
              "      --disabled-bg-color: #3B4455;\n",
              "      --disabled-fill-color: #666;\n",
              "  }\n",
              "\n",
              "  .colab-df-quickchart {\n",
              "    background-color: var(--bg-color);\n",
              "    border: none;\n",
              "    border-radius: 50%;\n",
              "    cursor: pointer;\n",
              "    display: none;\n",
              "    fill: var(--fill-color);\n",
              "    height: 32px;\n",
              "    padding: 0;\n",
              "    width: 32px;\n",
              "  }\n",
              "\n",
              "  .colab-df-quickchart:hover {\n",
              "    background-color: var(--hover-bg-color);\n",
              "    box-shadow: 0 1px 2px rgba(60, 64, 67, 0.3), 0 1px 3px 1px rgba(60, 64, 67, 0.15);\n",
              "    fill: var(--button-hover-fill-color);\n",
              "  }\n",
              "\n",
              "  .colab-df-quickchart-complete:disabled,\n",
              "  .colab-df-quickchart-complete:disabled:hover {\n",
              "    background-color: var(--disabled-bg-color);\n",
              "    fill: var(--disabled-fill-color);\n",
              "    box-shadow: none;\n",
              "  }\n",
              "\n",
              "  .colab-df-spinner {\n",
              "    border: 2px solid var(--fill-color);\n",
              "    border-color: transparent;\n",
              "    border-bottom-color: var(--fill-color);\n",
              "    animation:\n",
              "      spin 1s steps(1) infinite;\n",
              "  }\n",
              "\n",
              "  @keyframes spin {\n",
              "    0% {\n",
              "      border-color: transparent;\n",
              "      border-bottom-color: var(--fill-color);\n",
              "      border-left-color: var(--fill-color);\n",
              "    }\n",
              "    20% {\n",
              "      border-color: transparent;\n",
              "      border-left-color: var(--fill-color);\n",
              "      border-top-color: var(--fill-color);\n",
              "    }\n",
              "    30% {\n",
              "      border-color: transparent;\n",
              "      border-left-color: var(--fill-color);\n",
              "      border-top-color: var(--fill-color);\n",
              "      border-right-color: var(--fill-color);\n",
              "    }\n",
              "    40% {\n",
              "      border-color: transparent;\n",
              "      border-right-color: var(--fill-color);\n",
              "      border-top-color: var(--fill-color);\n",
              "    }\n",
              "    60% {\n",
              "      border-color: transparent;\n",
              "      border-right-color: var(--fill-color);\n",
              "    }\n",
              "    80% {\n",
              "      border-color: transparent;\n",
              "      border-right-color: var(--fill-color);\n",
              "      border-bottom-color: var(--fill-color);\n",
              "    }\n",
              "    90% {\n",
              "      border-color: transparent;\n",
              "      border-bottom-color: var(--fill-color);\n",
              "    }\n",
              "  }\n",
              "</style>\n",
              "\n",
              "  <script>\n",
              "    async function quickchart(key) {\n",
              "      const quickchartButtonEl =\n",
              "        document.querySelector('#' + key + ' button');\n",
              "      quickchartButtonEl.disabled = true;  // To prevent multiple clicks.\n",
              "      quickchartButtonEl.classList.add('colab-df-spinner');\n",
              "      try {\n",
              "        const charts = await google.colab.kernel.invokeFunction(\n",
              "            'suggestCharts', [key], {});\n",
              "      } catch (error) {\n",
              "        console.error('Error during call to suggestCharts:', error);\n",
              "      }\n",
              "      quickchartButtonEl.classList.remove('colab-df-spinner');\n",
              "      quickchartButtonEl.classList.add('colab-df-quickchart-complete');\n",
              "    }\n",
              "    (() => {\n",
              "      let quickchartButtonEl =\n",
              "        document.querySelector('#df-620c6715-0b40-49bf-bba3-1857aa83263f button');\n",
              "      quickchartButtonEl.style.display =\n",
              "        google.colab.kernel.accessAllowed ? 'block' : 'none';\n",
              "    })();\n",
              "  </script>\n",
              "</div>\n",
              "    </div>\n",
              "  </div>\n"
            ]
          },
          "metadata": {},
          "execution_count": 6
        }
      ]
    },
    {
      "cell_type": "code",
      "source": [
        "df.info() #melihat info dari data yang disajikan"
      ],
      "metadata": {
        "colab": {
          "base_uri": "https://localhost:8080/"
        },
        "id": "F0o0uaNXgF0t",
        "outputId": "035bf00d-bd7a-489a-c7d3-48ab25ab7ce2"
      },
      "execution_count": 4,
      "outputs": [
        {
          "output_type": "stream",
          "name": "stdout",
          "text": [
            "<class 'pandas.core.frame.DataFrame'>\n",
            "RangeIndex: 2167 entries, 0 to 2166\n",
            "Data columns (total 8 columns):\n",
            " #   Column             Non-Null Count  Dtype \n",
            "---  ------             --------------  ----- \n",
            " 0   Row                2167 non-null   int64 \n",
            " 1   Day                2167 non-null   object\n",
            " 2   Day.Of.Week        2167 non-null   int64 \n",
            " 3   Date               2167 non-null   object\n",
            " 4   Page.Loads         2167 non-null   object\n",
            " 5   Unique.Visits      2167 non-null   object\n",
            " 6   First.Time.Visits  2167 non-null   object\n",
            " 7   Returning.Visits   2167 non-null   object\n",
            "dtypes: int64(2), object(6)\n",
            "memory usage: 135.6+ KB\n"
          ]
        }
      ]
    },
    {
      "cell_type": "code",
      "source": [
        "df['Date'] = pd.to_datetime(df['Date']) #konversi kolom 'Date' menjadi tipe datetime"
      ],
      "metadata": {
        "id": "zb-VWF2Ykg3X"
      },
      "execution_count": 9,
      "outputs": []
    },
    {
      "cell_type": "code",
      "source": [
        "X = df[['Day.Of.Week']] #memilih kolom day of week sebagai variabel x\n",
        "y = df['Unique.Visits'] #memilih kolom unique visits sebagai variabel y"
      ],
      "metadata": {
        "id": "2UZRgjJemrzZ"
      },
      "execution_count": 20,
      "outputs": []
    },
    {
      "cell_type": "code",
      "source": [
        "X_train, X_test, y_train, y_test = train_test_split(X, y, test_size=0.2, random_state=42) #melakukan pemisahan data yang mau dilatih dan ditest"
      ],
      "metadata": {
        "id": "A_quJ3S4mwxC"
      },
      "execution_count": 21,
      "outputs": []
    },
    {
      "cell_type": "code",
      "source": [
        "model = LinearRegression() #menggunakan model linear regression untuk memprediksi data waktu nya\n",
        "\n",
        "model.fit(X_train, y_train) #melatih model dengan data pelatihan\n",
        "\n",
        "y_pred = model.predict(X_test) #melakukan prediksi dengan data pengujian\n"
      ],
      "metadata": {
        "id": "AsVgZpeLmzJP"
      },
      "execution_count": 22,
      "outputs": []
    },
    {
      "cell_type": "code",
      "source": [
        "#melakukan perhitungan mse dan mae dari data yang sudah diprediksi\n",
        "mse = mean_squared_error(y_test, y_pred)\n",
        "mae = mean_absolute_error(y_test, y_pred)"
      ],
      "metadata": {
        "id": "A9SgG4tHm5SN"
      },
      "execution_count": 23,
      "outputs": []
    },
    {
      "cell_type": "code",
      "source": [
        "#nenampilkan hasil analisis dari modelnya\n",
        "print(f'Mean Squared Error (MSE): {mse:.2f}')\n",
        "print(f'Mean Absolute Error (MAE): {mae:.2f}')"
      ],
      "metadata": {
        "colab": {
          "base_uri": "https://localhost:8080/"
        },
        "id": "z2xIQEAbm7S7",
        "outputId": "580f28eb-fe0e-402f-c0c6-ca627e7940f1"
      },
      "execution_count": 24,
      "outputs": [
        {
          "output_type": "stream",
          "name": "stdout",
          "text": [
            "Mean Squared Error (MSE): 923218.40\n",
            "Mean Absolute Error (MAE): 778.02\n"
          ]
        }
      ]
    },
    {
      "cell_type": "code",
      "source": [
        "#visualisasi hasil prediksi yang didapatkan menggunakan scatterplot\n",
        "plt.scatter(X_test, y_test, label='Data Asli', s=10)\n",
        "plt.plot(X_test, y_pred, color='red', label='Prediksi Regresi Linier')\n",
        "plt.xlabel('Hari dalam Seminggu')\n",
        "plt.ylabel('Unique Visits')\n",
        "plt.legend()\n",
        "plt.title('Analisis Regresi Waktu')\n",
        "plt.show()"
      ],
      "metadata": {
        "colab": {
          "base_uri": "https://localhost:8080/",
          "height": 472
        },
        "id": "rmwJbtlum8pw",
        "outputId": "769decd8-f8f7-471b-fd02-136c361e1f07"
      },
      "execution_count": 25,
      "outputs": [
        {
          "output_type": "display_data",
          "data": {
            "text/plain": [
              "<Figure size 640x480 with 1 Axes>"
            ],
            "image/png": "[encoded data removed]"
          },
          "metadata": {}
        }
      ]
    },
    {
      "cell_type": "code",
      "source": [
        "model.score(X_test, y_test)"
      ],
      "metadata": {
        "colab": {
          "base_uri": "https://localhost:8080/"
        },
        "id": "56QIXxqeozl-",
        "outputId": "05db1432-23ff-4163-aea1-8756be966deb"
      },
      "execution_count": 26,
      "outputs": [
        {
          "output_type": "execute_result",
          "data": {
            "text/plain": [
              "0.05644287448124097"
            ]
          },
          "metadata": {},
          "execution_count": 26
        }
      ]
    },
    {
      "cell_type": "markdown",
      "source": [
        "**INI YANG DIBAWAH NYOBA PAKAI CHATGPT SUPAYA SCORE NYA LEBIH BESAR, TAPI GRAFIKNYA JADI TERLIHAT ANEH/OVERFITTING**"
      ],
      "metadata": {
        "id": "_mGg7gegqW9-"
      }
    },
    {
      "cell_type": "code",
      "source": [
        "import pandas as pd\n",
        "import numpy as np\n",
        "import matplotlib.pyplot as plt\n",
        "from sklearn.model_selection import train_test_split\n",
        "from sklearn.linear_model import LinearRegression\n",
        "from sklearn.metrics import mean_squared_error, mean_absolute_error\n",
        "\n",
        "# Membaca dataset\n",
        "# Gantilah 'data.csv' dengan nama file dataset Anda\n",
        "df = pd.read_csv('/content/drive/MyDrive/Dataset MachineLearning/daily-website-visitors.csv')\n",
        "\n",
        "# Konversi kolom 'Date' menjadi tipe datetime\n",
        "df['Date'] = pd.to_datetime(df['Date'])\n",
        "\n",
        "# Pra-pemrosesan kolom 'Unique.Visits' untuk menghilangkan tanda koma dan mengonversinya ke dalam float\n",
        "df['Unique.Visits'] = df['Unique.Visits'].str.replace(',', '').astype(float)\n",
        "\n",
        "# Menambahkan fitur 'Day.Of.Week' sebagai hari dalam seminggu\n",
        "df['Day.Of.Week'] = df['Date'].dt.dayofweek\n",
        "\n",
        "# Menambahkan fitur 'Is_Weekend' yang menunjukkan apakah hari adalah akhir pekan atau bukan\n",
        "df['Is_Weekend'] = df['Day.Of.Week'].apply(lambda x: 1 if x >= 5 else 0)\n",
        "\n",
        "# Menambahkan fitur 'Day_Of_Year' (hari dalam setahun)\n",
        "df['Day_Of_Year'] = df['Date'].dt.dayofyear\n",
        "\n",
        "# Memilih kolom yang akan digunakan dalam analisis\n",
        "X = df[['Day.Of.Week', 'Is_Weekend', 'Day_Of_Year']]\n",
        "y = df['Unique.Visits']\n",
        "\n",
        "# Pembagian data menjadi data pelatihan dan data pengujian\n",
        "X_train, X_test, y_train, y_test = train_test_split(X, y, test_size=0.2, random_state=42)\n",
        "\n",
        "# Membuat model regresi linier\n",
        "model = LinearRegression()\n",
        "\n",
        "# Melatih model dengan data pelatihan\n",
        "model.fit(X_train, y_train)\n",
        "\n",
        "# Melakukan prediksi dengan data pengujian\n",
        "y_pred = model.predict(X_test)\n",
        "\n",
        "# Menghitung metrik kinerja model\n",
        "mse = mean_squared_error(y_test, y_pred)\n",
        "mae = mean_absolute_error(y_test, y_pred)\n",
        "\n",
        "# Menampilkan hasil analisis\n",
        "print(f'Mean Squared Error (MSE): {mse:.2f}')\n",
        "print(f'Mean Absolute Error (MAE): {mae:.2f}')\n",
        "\n",
        "# Visualisasi hasil prediksi\n",
        "plt.scatter(X_test['Day_Of_Year'], y_test, label='Data Asli', s=10)\n",
        "plt.plot(X_test['Day_Of_Year'], y_pred, color='red', label='Prediksi Regresi Linier')\n",
        "plt.xlabel('Hari dalam Setahun')\n",
        "plt.ylabel('Unique Visits')\n",
        "plt.legend()\n",
        "plt.title('Analisis Regresi Waktu')\n",
        "plt.show()\n",
        "\n",
        "# Skor model\n",
        "score = model.score(X_test, y_test)\n",
        "print(f'Skor Model: {score:.2f}')\n"
      ],
      "metadata": {
        "colab": {
          "base_uri": "https://localhost:8080/",
          "height": 524
        },
        "id": "QvdXboO5pphW",
        "outputId": "bc00ed72-015d-4201-8de0-c1ba1cf50f8a"
      },
      "execution_count": 30,
      "outputs": [
        {
          "output_type": "stream",
          "name": "stdout",
          "text": [
            "Mean Squared Error (MSE): 643304.30\n",
            "Mean Absolute Error (MAE): 648.70\n"
          ]
        },
        {
          "output_type": "display_data",
          "data": {
            "text/plain": [
              "<Figure size 640x480 with 1 Axes>"
            ],
            "image/png": "[encoded data removed]"
          },
          "metadata": {}
        },
        {
          "output_type": "stream",
          "name": "stdout",
          "text": [
            "Skor Model: 0.34\n"
          ]
        }
      ]
    }
  ]
}